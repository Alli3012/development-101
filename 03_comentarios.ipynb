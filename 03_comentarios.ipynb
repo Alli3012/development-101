{
 "cells": [
  {
   "cell_type": "markdown",
   "id": "e8824d07-57fd-473b-9ead-ac9cdd6658af",
   "metadata": {},
   "source": [
    "# Comentarios\n",
    "\n",
    "## Objetivos de aprendizaje\n",
    "- Entender qué son los comentarios en Python.\n",
    "- Aprender a utilizar comentarios para documentar el código.\n",
    "- Practicar la creación de comentarios simples y multilínea.\n",
    "\n",
    "## ¿Qué son los comentarios?\n",
    "Los **comentarios** son líneas de texto que se incluyen en el código para explicar su funcionamiento o documentarlo. Python ignora estas líneas al ejecutar el programa.\n",
    "\n",
    "Existen dos tipos principales de comentarios:\n",
    "1. **Comentarios de una sola línea**: Usan el símbolo `#`.\n",
    "2. **Comentarios multilínea**: Usan comillas triples `'''` o `\"\"\"`.\n",
    "\n",
    "---\n",
    "\n",
    "### Ejemplo de comentario de una sola línea:\n",
    "```python\n",
    "# Este es un comentario\n",
    "print(\"Hola, mundo\")  # Esto también es un comentario\n",
    "```"
   ]
  },
  {
   "cell_type": "code",
   "execution_count": 1,
   "id": "edf95e9c-3f70-48f6-b691-6ba16dc52598",
   "metadata": {},
   "outputs": [
    {
     "name": "stdout",
     "output_type": "stream",
     "text": [
      "Ejemplo con comentario multilínea\n"
     ]
    }
   ],
   "source": [
    "\"\"\"\n",
    "Este es un comentario de varias líneas.\n",
    "Se utiliza para describir secciones más largas del código.\n",
    "\"\"\"\n",
    "print(\"Ejemplo con comentario multilínea\")\n"
   ]
  },
  {
   "cell_type": "markdown",
   "id": "94cf960c-fe55-4370-99aa-9498dbb2dbbd",
   "metadata": {},
   "source": [
    "\n",
    "#### **Celda 3 (Markdown): Ejercicios**\n",
    "\n",
    "## Ejercicio 1: Agrega comentarios\n",
    "En el siguiente código, agrega comentarios que expliquen lo que hace cada línea.\n",
    "\n",
    "```python\n",
    "# Código para comentar\n",
    "x = 10\n",
    "y = 20\n",
    "resultado = x + y\n",
    "print(\"El resultado es:\", resultado)\n",
    "```"
   ]
  },
  {
   "cell_type": "code",
   "execution_count": null,
   "id": "2e621296-568f-4a29-8d1e-972f64a1f7fe",
   "metadata": {},
   "outputs": [],
   "source": []
  }
 ],
 "metadata": {
  "kernelspec": {
   "display_name": "Python 3 (ipykernel)",
   "language": "python",
   "name": "python3"
  },
  "language_info": {
   "codemirror_mode": {
    "name": "ipython",
    "version": 3
   },
   "file_extension": ".py",
   "mimetype": "text/x-python",
   "name": "python",
   "nbconvert_exporter": "python",
   "pygments_lexer": "ipython3",
   "version": "3.9.6"
  }
 },
 "nbformat": 4,
 "nbformat_minor": 5
}
