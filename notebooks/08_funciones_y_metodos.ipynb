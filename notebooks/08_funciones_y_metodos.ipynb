{
 "cells": [
  {
   "cell_type": "markdown",
   "id": "ebb68d87-88ad-4191-b169-46736d424d06",
   "metadata": {},
   "source": [
    "# Funciones y Métodos\n",
    "\n",
    "## Objetivos de aprendizaje\n",
    "- Comprender qué son las funciones y por qué son útiles.\n",
    "- Aprender a definir y llamar funciones en Python.\n",
    "- Introducir los métodos como funciones específicas asociadas a objetos.\n",
    "- Practicar con ejemplos y ejercicios que usan funciones y métodos.\n",
    "\n",
    "## ¿Qué es una función?\n",
    "Una **función** es un bloque de código reutilizable que realiza una tarea específica. Las funciones nos permiten dividir un programa en partes más pequeñas y manejables.\n",
    "\n",
    "### Definir una función\n",
    "Para definir una función en Python, usamos la palabra clave `def`:\n",
    "```python\n",
    "def saludar():\n",
    "    print(\"¡Hola, mundo!\")\n",
    "```"
   ]
  },
  {
   "cell_type": "code",
   "execution_count": null,
   "id": "e6444554-96e4-4c9a-b3eb-4d4ce4916463",
   "metadata": {},
   "outputs": [],
   "source": [
    "# Ejecutar la función\n",
    "def saludar():\n",
    "    print(\"¡Hola, mundo!\")\n",
    "\n",
    "saludar()"
   ]
  },
  {
   "cell_type": "markdown",
   "id": "6be48a57-376d-4abc-8fb3-16c07e87c9af",
   "metadata": {},
   "source": [
    "## Parámetros y valores de retorno\n",
    "\n",
    "* Parámetros: Son datos que se pasan a una función para personalizar su comportamiento.\n",
    "* Valor de retorno: Es el resultado que una función puede devolver al finalizar.\n",
    "\n",
    "Ejemplo:"
   ]
  },
  {
   "cell_type": "code",
   "execution_count": null,
   "id": "12e6775a-e62a-443c-a19a-931cc825a3de",
   "metadata": {},
   "outputs": [],
   "source": [
    "def sumar(a, b):\n",
    "    return a + b\n",
    "\n",
    "resultado = sumar(3, 5)\n",
    "print(\"La suma es:\", resultado)"
   ]
  },
  {
   "cell_type": "markdown",
   "id": "e11ebe27-81ee-4164-9661-ca6450b61626",
   "metadata": {},
   "source": [
    "## ¿Qué es un método?\n",
    "\n",
    "Un método es similar a una función, pero está asociado a un objeto. Por ejemplo, las cadenas de texto tienen métodos que realizan acciones sobre ellas.\n",
    "Ejemplo:"
   ]
  },
  {
   "cell_type": "code",
   "execution_count": null,
   "id": "328e4894-87ab-458c-861e-4653b5c8dab4",
   "metadata": {},
   "outputs": [],
   "source": [
    "texto = \"hola\"\n",
    "print(texto.upper())  # Convierte a mayúsculas\n",
    "print(texto.replace(\"o\", \"a\"))  # Reemplaza caracteres"
   ]
  },
  {
   "cell_type": "code",
   "execution_count": null,
   "id": "549b18ad-0ff3-430b-ba89-945ed354401b",
   "metadata": {},
   "outputs": [],
   "source": [
    "# Ejemplo\n",
    "# Función sin parámetros\n",
    "def mostrar_mensaje():\n",
    "    print(\"Este es un mensaje desde una función.\")\n",
    "\n",
    "mostrar_mensaje()"
   ]
  },
  {
   "cell_type": "code",
   "execution_count": null,
   "id": "28c855cb-c2a8-4fc4-8d43-c42093d2ac10",
   "metadata": {},
   "outputs": [],
   "source": [
    "# Ejemplo\n",
    "# Función con parámetros\n",
    "def multiplicar(a, b):\n",
    "    return a * b\n",
    "\n",
    "resultado = multiplicar(4, 5)\n",
    "print(\"El resultado es:\", resultado)"
   ]
  },
  {
   "cell_type": "code",
   "execution_count": 2,
   "id": "022e1836-9144-408e-b375-602bb7de8a72",
   "metadata": {},
   "outputs": [
    {
     "name": "stdout",
     "output_type": "stream",
     "text": [
      "Mayúsculas: APRENDIENDO PYTHON\n",
      "Reemplazo: Aprendiendo Funciones\n"
     ]
    }
   ],
   "source": [
    "# Ejemplo\n",
    "# Método de cadenas\n",
    "texto = \"Aprendiendo Python\"\n",
    "print(\"Mayúsculas:\", texto.upper())\n",
    "print(\"Reemplazo:\", texto.replace(\"Python\", \"Funciones\"))"
   ]
  },
  {
   "cell_type": "markdown",
   "id": "6812daee-9826-4032-8f98-75c9a90705c6",
   "metadata": {},
   "source": [
    "### Ejercicio 1: Funciones básicas\n",
    "1. Define una función que reciba un número y devuelva su cuadrado.\n",
    "2. Escribe una función que reciba dos números y devuelva el mayor.\n",
    "\n",
    "---\n",
    "\n",
    "### Ejercicio 2: Funciones con texto\n",
    "1. Escribe una función que reciba una cadena y devuelva la misma cadena en mayúsculas.\n",
    "2. Define una función que reciba una cadena y cuente cuántas vocales contiene.\n",
    "\n",
    "---\n",
    "\n",
    "### Ejercicio 3: Métodos\n",
    "1. Dada la cadena `\"Python es genial\"`, utiliza métodos para:\n",
    "   - Convertirla a minúsculas.\n",
    "   - Reemplazar \"Python\" por \"Aprender Python\".\n",
    "2. Dada la lista `[3, 1, 4, 1, 5, 9]`, utiliza métodos para:\n",
    "   - Ordenarla en orden ascendente.\n",
    "   - Agregar el número 7 al final.\n",
    "\n",
    "---\n",
    "\n",
    "### Ejercicio 4: Combinación de funciones y métodos\n",
    "1. Define una función que reciba una lista de números y devuelva la lista en orden inverso.\n",
    "2. Escribe una función que reciba una lista de cadenas y devuelva una nueva lista con las cadenas en mayúsculas.\n"
   ]
  },
  {
   "cell_type": "code",
   "execution_count": null,
   "id": "187fc1c1-5c83-4631-981f-09dbcdc134dd",
   "metadata": {},
   "outputs": [],
   "source": [
    "# Ejercicio 1\n",
    "# Escribe tu código aquí para las funciones básicas"
   ]
  },
  {
   "cell_type": "code",
   "execution_count": null,
   "id": "887e7c88-34d0-4629-9561-055c57563034",
   "metadata": {},
   "outputs": [],
   "source": [
    "# Ejercicio 2\n",
    "# Escribe tu código aquí para las funciones con texto"
   ]
  },
  {
   "cell_type": "code",
   "execution_count": null,
   "id": "af8eb5bc-331e-46b3-bba3-ada484f4eb2b",
   "metadata": {},
   "outputs": [],
   "source": [
    "# Ejercicio 3\n",
    "# Escribe tu código aquí para los métodos"
   ]
  },
  {
   "cell_type": "code",
   "execution_count": null,
   "id": "ab1bde32-0488-4012-b61f-cb8a9abdcd88",
   "metadata": {},
   "outputs": [],
   "source": [
    "# Ejercicio 4\n",
    "# Escribe tu código aquí para combinar funciones y métodos"
   ]
  },
  {
   "cell_type": "markdown",
   "id": "3c7123cc",
   "metadata": {},
   "source": [
    "## Guardar avance\n",
    "Al terminar cada notebook, debes guardar tu progreso.\n",
    "En la celda siguiente deberás de agregar tu correo, siempre debe de ser el mismo, y tu nombre completo, una vez hecho eso deberás de ejecutar la celda.\n",
    "Si no cumples con este paso no podremos validar tu avance"
   ]
  },
  {
   "cell_type": "code",
   "execution_count": null,
   "id": "40ad4f83",
   "metadata": {},
   "outputs": [],
   "source": [
    "import requests\n",
    "import json\n",
    "\n",
    "# Información del estudiante (puedes parametrizar o pedir como input)\n",
    "email = \"\" # Agrega tu correo, en todos los archivos deberá ser el mismo\n",
    "nombre = \"\" # Agrega tu nombre completo, en todos los archivos deberá ser el mismo\n",
    "\n",
    "# Progreso actualizado (modifica el tema según el notebook)\n",
    "tema_actual = \"08.- Funciones y metodos\"\n",
    "progreso_path = \"../progress/template_progreso.json\"\n",
    "\n",
    "# Leer el archivo de progreso local\n",
    "try:\n",
    "    with open(progreso_path, 'r') as file:\n",
    "        progreso = json.load(file)\n",
    "except FileNotFoundError:\n",
    "    print(\"Archivo de progreso no encontrado.\")\n",
    "    progreso = {}\n",
    "\n",
    "# Actualizar el progreso en el archivo local\n",
    "if \"Introducción a la programación\" not in progreso:\n",
    "    progreso[\"Introducción a la programación\"] = {}\n",
    "\n",
    "progreso[\"Introducción a la programación\"][tema_actual] = \"Completado\"\n",
    "\n",
    "# Guardar el progreso localmente\n",
    "with open(progreso_path, 'w') as file:\n",
    "    json.dump(progreso, file, indent=4)\n",
    "\n",
    "print(\"Progreso actualizado localmente.\")\n",
    "\n",
    "# Datos para enviar al backend\n",
    "url = \"https://apiprogreso.hackademy.lat/api/progreso\"  # Cambia la URL según tu servidor\n",
    "payload = {\n",
    "    \"nombre\": nombre,\n",
    "    \"email\": email,\n",
    "    \"progreso\": progreso\n",
    "}\n",
    "\n",
    "# Realizar la solicitud POST al backend\n",
    "try:\n",
    "    response = requests.post(url, json=payload)\n",
    "    if response.status_code == 200:\n",
    "        print(\"Progreso sincronizado con el servidor.\")\n",
    "    else:\n",
    "        print(f\"Error al sincronizar: {response.status_code} - {response.text}\")\n",
    "except Exception as e:\n",
    "    print(f\"No se pudo conectar al servidor: {e}\")"
   ]
  }
 ],
 "metadata": {
  "kernelspec": {
   "display_name": "Python 3 (ipykernel)",
   "language": "python",
   "name": "python3"
  },
  "language_info": {
   "codemirror_mode": {
    "name": "ipython",
    "version": 3
   },
   "file_extension": ".py",
   "mimetype": "text/x-python",
   "name": "python",
   "nbconvert_exporter": "python",
   "pygments_lexer": "ipython3",
   "version": "3.9.6"
  }
 },
 "nbformat": 4,
 "nbformat_minor": 5
}
