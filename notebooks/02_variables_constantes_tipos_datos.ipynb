{
 "cells": [
  {
   "cell_type": "markdown",
   "id": "019bf1cf-5c4b-409d-a4fc-a4f613f53517",
   "metadata": {},
   "source": [
    "# Variables, Constantes y Tipos de Datos\n",
    "\n",
    "## Objetivos de aprendizaje\n",
    "- Comprender qué son las variables y constantes.\n",
    "- Aprender los tipos de datos básicos en Python.\n",
    "- Declarar y usar variables y constantes en un programa."
   ]
  },
  {
   "cell_type": "markdown",
   "id": "39f90eb0-7ec6-4af6-b05c-8368f2a2bb7b",
   "metadata": {},
   "source": [
    "## ¿Qué son las variables?\n",
    "Una **variable** es un espacio en memoria donde almacenamos información. El valor de una variable puede cambiar durante la ejecución de un programa.\n",
    "Si hacemos una analogia al mundo real las variables sería cajones donde podemos guardar cosas, y esas cosas pueden cambiar. En algunos casos las variables solo aceptan un tipo de dato que es como si solo guardaramos un tipo de cosa en un cajón.\n",
    "\n",
    "### Ejemplo:\n"
   ]
  },
  {
   "cell_type": "code",
   "execution_count": null,
   "id": "da1e21a0-b8c8-4bca-afd8-99e8718d1e2c",
   "metadata": {},
   "outputs": [],
   "source": [
    "# Declaramos una variable y le asignamos un valor\n",
    "nombre = \"Juan\"\n",
    "edad = 25\n",
    "\n",
    "print(\"Nombre:\", nombre)\n",
    "print(\"Edad:\", edad)"
   ]
  },
  {
   "cell_type": "markdown",
   "id": "c7b8afb5-31a8-4bec-aa92-d382248158c1",
   "metadata": {},
   "source": [
    "## ¿Qué son las constantes?\n",
    "\n",
    "Una **constante** es similar a una variable, pero su valor no cambia durante la ejecución del programa. En Python, usamos nombres en mayúsculas para representar constantes.\n",
    "Ejemplo:\n",
    "\n",
    "```python\n",
    "PI = 3.14159\n",
    "```"
   ]
  },
  {
   "cell_type": "markdown",
   "id": "e8ba3d17-d79c-4f0a-8d68-3fdb377d3895",
   "metadata": {},
   "source": [
    "## Tipos de datos en Python\n",
    "\n",
    "Python tiene varios tipos de datos básicos:\n",
    "\n",
    "    Enteros (int): Números enteros como 10, -5.\n",
    "    Flotantes (float): Números decimales como 3.14.\n",
    "    Strings (str): Cadenas de texto como \"Hola\".\n",
    "    Booleanos (bool): Valores lógicos: True o False.\n",
    "\n"
   ]
  },
  {
   "cell_type": "code",
   "execution_count": null,
   "id": "7ce8e58a-8665-4057-8a79-9232559c6b0e",
   "metadata": {},
   "outputs": [],
   "source": [
    "entero = 10\n",
    "decimal = 3.14\n",
    "texto = \"Hola, mundo\"\n",
    "verdadero = True\n",
    "\n",
    "print(type(entero), entero)\n",
    "print(type(decimal), decimal)\n",
    "print(type(texto), texto)\n",
    "print(type(verdadero), verdadero)"
   ]
  },
  {
   "cell_type": "markdown",
   "id": "043fcfbf",
   "metadata": {},
   "source": [
    "## Guardar avance\n",
    "Al terminar cada notebook, debes guardar tu progreso.\n",
    "En la celda siguiente deberás de agregar tu correo, siempre debe de ser el mismo, y tu nombre completo, una vez hecho eso deberás de ejecutar la celda.\n",
    "Si no cumples con este paso no podremos validar tu avance"
   ]
  },
  {
   "cell_type": "code",
   "execution_count": null,
   "id": "b7e783a3-516f-4f0e-b5b2-c30e6e3e51b5",
   "metadata": {},
   "outputs": [],
   "source": [
    "import requests\n",
    "import json\n",
    "\n",
    "# Información del estudiante (puedes parametrizar o pedir como input)\n",
    "email = \"\" # Agrega tu correo, en todos los archivos deberá ser el mismo\n",
    "nombre = \"\" # Agrega tu nombre completo, en todos los archivos deberá ser el mismo\n",
    "\n",
    "# Progreso actualizado (modifica el tema según el notebook)\n",
    "tema_actual = \"02.- Variables, Constantes y Tipos de datos\"\n",
    "progreso_path = \"../progress/template_progreso.json\"\n",
    "\n",
    "# Leer el archivo de progreso local\n",
    "try:\n",
    "    with open(progreso_path, 'r') as file:\n",
    "        progreso = json.load(file)\n",
    "except FileNotFoundError:\n",
    "    print(\"Archivo de progreso no encontrado.\")\n",
    "    progreso = {}\n",
    "\n",
    "# Actualizar el progreso en el archivo local\n",
    "if \"Introducción a la programación\" not in progreso:\n",
    "    progreso[\"Introducción a la programación\"] = {}\n",
    "\n",
    "progreso[\"Introducción a la programación\"][tema_actual] = \"Completado\"\n",
    "\n",
    "# Guardar el progreso localmente\n",
    "with open(progreso_path, 'w') as file:\n",
    "    json.dump(progreso, file, indent=4)\n",
    "\n",
    "print(\"Progreso actualizado localmente.\")\n",
    "\n",
    "# Datos para enviar al backend\n",
    "url = \"https://apiprogreso.hackademy.lat/api/progreso\"  # Cambia la URL según tu servidor\n",
    "payload = {\n",
    "    \"nombre\": nombre,\n",
    "    \"email\": email,\n",
    "    \"progreso\": progreso\n",
    "}\n",
    "\n",
    "# Realizar la solicitud POST al backend\n",
    "try:\n",
    "    response = requests.post(url, json=payload)\n",
    "    if response.status_code == 200:\n",
    "        print(\"Progreso sincronizado con el servidor.\")\n",
    "    else:\n",
    "        print(f\"Error al sincronizar: {response.status_code} - {response.text}\")\n",
    "except Exception as e:\n",
    "    print(f\"No se pudo conectar al servidor: {e}\")"
   ]
  }
 ],
 "metadata": {
  "kernelspec": {
   "display_name": "venv",
   "language": "python",
   "name": "python3"
  },
  "language_info": {
   "codemirror_mode": {
    "name": "ipython",
    "version": 3
   },
   "file_extension": ".py",
   "mimetype": "text/x-python",
   "name": "python",
   "nbconvert_exporter": "python",
   "pygments_lexer": "ipython3",
   "version": "3.9.6"
  }
 },
 "nbformat": 4,
 "nbformat_minor": 5
}
