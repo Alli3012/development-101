{
 "cells": [
  {
   "cell_type": "markdown",
   "id": "e8824d07-57fd-473b-9ead-ac9cdd6658af",
   "metadata": {},
   "source": [
    "# Comentarios\n",
    "\n",
    "## Objetivos de aprendizaje\n",
    "- Entender qué son los comentarios en Python.\n",
    "- Aprender a utilizar comentarios para documentar el código.\n",
    "- Practicar la creación de comentarios simples y multilínea.\n",
    "\n",
    "## ¿Qué son los comentarios?\n",
    "Los **comentarios** son líneas de texto que se incluyen en el código para explicar su funcionamiento o documentarlo. Python ignora estas líneas al ejecutar el programa.\n",
    "\n",
    "Existen dos tipos principales de comentarios:\n",
    "1. **Comentarios de una sola línea**: Usan el símbolo `#`.\n",
    "2. **Comentarios multilínea**: Usan comillas triples `'''` o `\"\"\"`.\n",
    "\n",
    "---\n",
    "\n",
    "### Ejemplo de comentario de una sola línea:\n",
    "```python\n",
    "# Este es un comentario\n",
    "print(\"Hola, mundo\")  # Esto también es un comentario\n",
    "```"
   ]
  },
  {
   "cell_type": "code",
   "execution_count": null,
   "id": "edf95e9c-3f70-48f6-b691-6ba16dc52598",
   "metadata": {},
   "outputs": [],
   "source": [
    "\"\"\"\n",
    "Este es un comentario de varias líneas.\n",
    "Se utiliza para describir secciones más largas del código.\n",
    "\"\"\"\n",
    "print(\"Ejemplo con comentario multilínea\")\n"
   ]
  },
  {
   "cell_type": "markdown",
   "id": "94cf960c-fe55-4370-99aa-9498dbb2dbbd",
   "metadata": {},
   "source": [
    "\n",
    "#### **Celda 3 (Markdown): Ejercicios**\n",
    "\n",
    "## Ejercicio 1: Agrega comentarios\n",
    "En el siguiente código, agrega comentarios que expliquen lo que hace cada línea.\n",
    "\n",
    "```python\n",
    "# Código para comentar\n",
    "x = 10\n",
    "y = 20\n",
    "resultado = x + y\n",
    "print(\"El resultado es:\", resultado)\n",
    "```"
   ]
  },
  {
   "cell_type": "markdown",
   "id": "b28a8cd2",
   "metadata": {},
   "source": [
    "## Guardar avance\n",
    "Al terminar cada notebook, debes guardar tu progreso.\n",
    "En la celda siguiente deberás de agregar tu correo, siempre debe de ser el mismo, y tu nombre completo, una vez hecho eso deberás de ejecutar la celda.\n",
    "Si no cumples con este paso no podremos validar tu avance"
   ]
  },
  {
   "cell_type": "code",
   "execution_count": null,
   "id": "2e621296-568f-4a29-8d1e-972f64a1f7fe",
   "metadata": {},
   "outputs": [],
   "source": [
    "import requests\n",
    "import json\n",
    "\n",
    "# Información del estudiante (puedes parametrizar o pedir como input)\n",
    "email = \"\" # Agrega tu correo, en todos los archivos deberá ser el mismo\n",
    "nombre = \"\" # Agrega tu nombre completo, en todos los archivos deberá ser el mismo\n",
    "\n",
    "# Progreso actualizado (modifica el tema según el notebook)\n",
    "tema_actual = \"03.- Comentarios\"\n",
    "progreso_path = \"../progress/template_progreso.json\"\n",
    "\n",
    "# Leer el archivo de progreso local\n",
    "try:\n",
    "    with open(progreso_path, 'r') as file:\n",
    "        progreso = json.load(file)\n",
    "except FileNotFoundError:\n",
    "    print(\"Archivo de progreso no encontrado.\")\n",
    "    progreso = {}\n",
    "\n",
    "# Actualizar el progreso en el archivo local\n",
    "if \"Introducción a la programación\" not in progreso:\n",
    "    progreso[\"Introducción a la programación\"] = {}\n",
    "\n",
    "progreso[\"Introducción a la programación\"][tema_actual] = \"Completado\"\n",
    "\n",
    "# Guardar el progreso localmente\n",
    "with open(progreso_path, 'w') as file:\n",
    "    json.dump(progreso, file, indent=4)\n",
    "\n",
    "print(\"Progreso actualizado localmente.\")\n",
    "\n",
    "# Datos para enviar al backend\n",
    "url = \"https://apiprogreso.hackademy.lat/api/progreso\"  # Cambia la URL según tu servidor\n",
    "payload = {\n",
    "    \"nombre\": nombre,\n",
    "    \"email\": email,\n",
    "    \"progreso\": progreso\n",
    "}\n",
    "\n",
    "# Realizar la solicitud POST al backend\n",
    "try:\n",
    "    response = requests.post(url, json=payload)\n",
    "    if response.status_code == 200:\n",
    "        print(\"Progreso sincronizado con el servidor.\")\n",
    "    else:\n",
    "        print(f\"Error al sincronizar: {response.status_code} - {response.text}\")\n",
    "except Exception as e:\n",
    "    print(f\"No se pudo conectar al servidor: {e}\")"
   ]
  }
 ],
 "metadata": {
  "kernelspec": {
   "display_name": "venv",
   "language": "python",
   "name": "python3"
  },
  "language_info": {
   "codemirror_mode": {
    "name": "ipython",
    "version": 3
   },
   "file_extension": ".py",
   "mimetype": "text/x-python",
   "name": "python",
   "nbconvert_exporter": "python",
   "pygments_lexer": "ipython3",
   "version": "3.9.6"
  }
 },
 "nbformat": 4,
 "nbformat_minor": 5
}
