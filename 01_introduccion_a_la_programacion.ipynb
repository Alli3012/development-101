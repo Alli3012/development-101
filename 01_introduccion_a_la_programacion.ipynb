{
 "cells": [
  {
   "cell_type": "markdown",
   "id": "8b17eb81-5d0f-46db-bea6-af8d037f3b6a",
   "metadata": {},
   "source": [
    "# Introducción a la programación\n",
    "\n",
    "La programación es el proceso de crear un conjunto de instrucciones que le dicen a una computadora como realizar algún tipo de tarea. Pero no solo la acción de escribir un código para que la computadora o el software lo ejecute. Incluye, además, todas las tareas necesarias para que el código funcione correctamente y cumpla el objetivo para el cual se escribió.\n",
    "\n",
    "En la actualidad, la noción de programación se encuentra muy asociada a la creación de aplicaciones de informática y videojuegos. En este sentido, es el proceso por el cual una persona desarrolla un programa, valiéndose de una herramienta que le permita escribir el código (el cual puede estar en uno o varios lenguajes, como C++, Java y Python, entre muchos otros) y de otra que sea capaz de “traducirlo” a lo que se conoce como lenguaje de máquina, que puede \"comprender\" el microprocesador.\n",
    "\n",
    "## Introducción a Python\n",
    "\n",
    "## Objetivos de aprendizaje\n",
    "- Entender qué es Python.\n",
    "- Aprender a usar variables y tipos de datos básicos.\n"
   ]
  },
  {
   "cell_type": "markdown",
   "id": "94e80402-d9ed-4a39-a702-32bab1be0ba1",
   "metadata": {},
   "source": [
    "## ¿Qué es Python?\n",
    "Python es un lenguaje de programación ampliamente utilizado en las aplicaciones web, el desarrollo de software, la ciencia de datos y el machine learning (ML). Los desarrolladores utilizan Python porque es eficiente y fácil de aprender, además de que se puede ejecutar en muchas plataformas diferentes. El software Python se puede descargar gratis, se integra bien a todos los tipos de sistemas y aumenta la velocidad del desarrollo.\n",
    "\n",
    "### ¿Cuáles son las características de Python?\n",
    "\n",
    "Las características siguientes del lenguaje de programación Python lo hacen único:\n",
    "Un lenguaje interpretado\n",
    "\n",
    "Python es un lenguaje interpretado, lo que significa que ejecuta directamente el código línea por línea. Si existen errores en el código del programa, su ejecución se detiene. Así, los programadores pueden encontrar errores en el código con rapidez.\n",
    "Un lenguaje fácil de utilizar\n",
    "\n",
    "Python utiliza palabras similares a las del inglés. A diferencia de otros lenguajes de programación, Python no utiliza llaves. En su lugar, utiliza sangría. \n",
    "Un lenguaje tipeado dinámicamente\n",
    "\n",
    "Los programadores no tienen que anunciar tipos de variables cuando escriben código porque Python los determina en el tiempo de ejecución. Debido a esto, es posible escribir programas de Python con mayor rapidez.\n",
    "Un lenguaje de alto nivel\n",
    "\n",
    "Python es más cercano a los idiomas humanos que otros lenguajes de programación. Por lo tanto, los programadores no deben preocuparse sobre sus funcionalidades subyacentes, como la arquitectura y la administración de la memoria.\n",
    "Un lenguaje orientado a los objetos\n",
    "\n",
    "Python considera todo como un objeto, pero también admite otros tipos de programación, como la programación estructurada y la funcional.\n",
    "\n"
   ]
  },
  {
   "cell_type": "code",
   "execution_count": 2,
   "id": "4b12e2a3-2886-4545-adcd-b2c88103a988",
   "metadata": {},
   "outputs": [
    {
     "name": "stdout",
     "output_type": "stream",
     "text": [
      "¡Hola Mundo!\n"
     ]
    }
   ],
   "source": [
    "# Ejemplo: Hola Mundo\n",
    "print(\"¡Hola Mundo!\")\n"
   ]
  }
 ],
 "metadata": {
  "kernelspec": {
   "display_name": "Python 3 (ipykernel)",
   "language": "python",
   "name": "python3"
  },
  "language_info": {
   "codemirror_mode": {
    "name": "ipython",
    "version": 3
   },
   "file_extension": ".py",
   "mimetype": "text/x-python",
   "name": "python",
   "nbconvert_exporter": "python",
   "pygments_lexer": "ipython3",
   "version": "3.9.6"
  }
 },
 "nbformat": 4,
 "nbformat_minor": 5
}
