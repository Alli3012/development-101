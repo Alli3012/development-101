{
 "cells": [
  {
   "cell_type": "markdown",
   "id": "32848e7a-a598-41c8-a647-7a7490e2f97b",
   "metadata": {},
   "source": [
    "# Estructuras de control\n",
    "\n",
    "## Objetivos de aprendizaje\n",
    "- Entender cómo tomar decisiones en un programa usando estructuras condicionales.\n",
    "- Aprender a repetir bloques de código usando ciclos.\n",
    "- Practicar la implementación de estructuras de control en problemas básicos.\n",
    "\n",
    "## ¿Qué son las estructuras de control?\n",
    "Las estructuras de control permiten modificar el flujo de ejecución de un programa. En Python, hay dos tipos principales:\n",
    "1. **Estructuras condicionales**: Ejecutan diferentes bloques de código dependiendo de una condición.\n",
    "2. **Ciclos**: Repiten un bloque de código mientras una condición sea verdadera.\n",
    "\n",
    "---\n",
    "\n",
    "### **1. Condicionales**\n",
    "Las estructuras condicionales más comunes son:\n",
    "- `if`: Ejecuta un bloque de código si una condición es verdadera.\n",
    "- `elif`: Permite evaluar múltiples condiciones.\n",
    "- `else`: Se ejecuta si ninguna condición anterior es verdadera.\n",
    "\n",
    "#### Ejemplo:\n",
    "```python\n",
    "edad = 18\n",
    "\n",
    "if edad < 18:\n",
    "    print(\"Eres menor de edad.\")\n",
    "elif edad == 18:\n",
    "    print(\"Tienes exactamente 18 años.\")\n",
    "else:\n",
    "    print(\"Eres mayor de edad.\")\n",
    "```"
   ]
  },
  {
   "cell_type": "markdown",
   "id": "39c82b26-0be1-4248-b22d-dbe45297c91a",
   "metadata": {},
   "source": [
    "## Ciclos\n",
    "\n",
    "### Ciclo `while`\n",
    "\n",
    "Repite un bloque de código mientras una condición sea verdadera."
   ]
  },
  {
   "cell_type": "code",
   "execution_count": null,
   "id": "9853c829-8ebd-428d-b485-155f157e5296",
   "metadata": {},
   "outputs": [],
   "source": [
    "contador = 1\n",
    "\n",
    "while contador <= 5:\n",
    "    print(f\"Contador: {contador}\")\n",
    "    contador += 1"
   ]
  },
  {
   "cell_type": "markdown",
   "id": "b9e5d7be-57b8-4445-a529-64c48d6c5deb",
   "metadata": {},
   "source": [
    "### Ciclo `for`\n",
    "\n",
    "Itera sobre una secuencia (como una lista o un rango de números)."
   ]
  },
  {
   "cell_type": "code",
   "execution_count": null,
   "id": "44709080-1e78-4798-98dd-d1318a378185",
   "metadata": {},
   "outputs": [],
   "source": [
    "# Iterar sobre una lista\n",
    "frutas = [\"manzana\", \"plátano\", \"cereza\"]\n",
    "for fruta in frutas:\n",
    "    print(fruta)\n",
    "\n",
    "# Iterar sobre un rango\n",
    "for i in range(5):\n",
    "    print(f\"Iteración: {i}\")"
   ]
  },
  {
   "cell_type": "code",
   "execution_count": null,
   "id": "ce013e53-cace-4bb7-a7fa-d44069f778cf",
   "metadata": {},
   "outputs": [],
   "source": [
    "# Ejemplos\n",
    "\n",
    "# Ejemplo 1: Condicionales\n",
    "numero = 10\n",
    "\n",
    "if numero % 2 == 0:\n",
    "    print(f\"{numero} es un número par.\")\n",
    "else:\n",
    "    print(f\"{numero} es un número impar.\")\n",
    "\n",
    "# Ejemplo 2: Ciclo while\n",
    "contador = 3\n",
    "while contador > 0:\n",
    "    print(f\"Contador: {contador}\")\n",
    "    contador -= 1\n",
    "\n",
    "# Ejemplo 3: Ciclo for\n",
    "animales = [\"gato\", \"perro\", \"conejo\"]\n",
    "for animal in animales:\n",
    "    print(f\"El {animal} es un animal.\")"
   ]
  },
  {
   "cell_type": "markdown",
   "id": "875a2d61-39cf-4fde-91ed-0a0c446ec368",
   "metadata": {},
   "source": [
    "### Ejercicio 1: Condicionales\n",
    "1. Escribe un programa que solicite al usuario un número.\n",
    "2. Imprime si el número es positivo, negativo o cero.\n",
    "\n",
    "---\n",
    "\n",
    "### Ejercicio 2: Ciclo while\n",
    "1. Escribe un programa que imprima los números del 1 al 10 usando un ciclo `while`.\n",
    "2. Modifica el programa para que sólo imprima los números pares.\n",
    "\n",
    "---\n",
    "\n",
    "### Ejercicio 3: Ciclo for\n",
    "1. Crea una lista de palabras y utiliza un ciclo `for` para imprimir cada palabra en mayúsculas.\n",
    "2. Escribe un programa que imprima la tabla de multiplicar del 5 usando un ciclo `for`.\n",
    "\n",
    "---\n",
    "\n",
    "### Ejercicio 4: Combinación de estructuras\n",
    "1. Escribe un programa que solicite una lista de números al usuario (puedes usar `input()` en un ciclo).\n",
    "2. Imprime todos los números pares de la lista utilizando un ciclo `for` y una condición `if`.\n"
   ]
  },
  {
   "cell_type": "code",
   "execution_count": null,
   "id": "fd897a5f-01b9-42c5-b354-54f637e4c775",
   "metadata": {},
   "outputs": [],
   "source": [
    "# Ejercicio 1\n",
    "# Escribe tu código aquí para las condicionales"
   ]
  },
  {
   "cell_type": "code",
   "execution_count": null,
   "id": "32ffc92f-70ee-4407-87b3-bdb3bf8b8a7d",
   "metadata": {},
   "outputs": [],
   "source": [
    "# Ejercicio 2\n",
    "# Escribe tu código aquí para los ciclos while"
   ]
  },
  {
   "cell_type": "code",
   "execution_count": null,
   "id": "fb8e50c8-f42d-4e5a-824b-b336d53830fe",
   "metadata": {},
   "outputs": [],
   "source": [
    "# Ejercicio 3\n",
    "# Escribe tu código aquí para los ciclos for"
   ]
  },
  {
   "cell_type": "code",
   "execution_count": null,
   "id": "37181799-93c7-4f3e-991b-e93aaa2cb959",
   "metadata": {},
   "outputs": [],
   "source": [
    "# Ejercicio 4\n",
    "# Escribe tu código aquí para combinar estructuras"
   ]
  }
 ],
 "metadata": {
  "kernelspec": {
   "display_name": "Python 3 (ipykernel)",
   "language": "python",
   "name": "python3"
  },
  "language_info": {
   "codemirror_mode": {
    "name": "ipython",
    "version": 3
   },
   "file_extension": ".py",
   "mimetype": "text/x-python",
   "name": "python",
   "nbconvert_exporter": "python",
   "pygments_lexer": "ipython3",
   "version": "3.9.6"
  }
 },
 "nbformat": 4,
 "nbformat_minor": 5
}
