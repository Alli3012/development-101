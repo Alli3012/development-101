{
 "cells": [
  {
   "cell_type": "markdown",
   "id": "b023fdff-64eb-4c5a-8253-9039360f3b53",
   "metadata": {},
   "source": [
    "# Vectores\n",
    "\n",
    "## Objetivos de aprendizaje\n",
    "- Comprender qué son los vectores (listas) en Python.\n",
    "- Aprender a crear y manipular listas.\n",
    "- Practicar operaciones comunes como agregar, eliminar y buscar elementos en una lista.\n",
    "\n",
    "## ¿Qué es un vector?\n",
    "En Python, un **vector** o **lista** es una estructura de datos que permite almacenar múltiples valores en un solo lugar.\n",
    "\n",
    "### Crear una lista\n",
    "Se utiliza corchetes (`[]`) para definir una lista:\n",
    "```python\n",
    "# Lista de números\n",
    "numeros = [1, 2, 3, 4, 5]\n",
    "\n",
    "# Lista de strings\n",
    "nombres = [\"Ana\", \"Luis\", \"Sofía\"]\n",
    "\n",
    "# Lista mixta\n",
    "mixta = [1, \"Hola\", 3.14, True]\n",
    "```\n",
    "\n",
    "### Operaciones comunes con listas"
   ]
  },
  {
   "cell_type": "code",
   "execution_count": null,
   "id": "06845b83-ea7e-4e63-ac04-6d6b1f16b425",
   "metadata": {},
   "outputs": [],
   "source": [
    "# Acceder a elementos: Usando índices (empezando en 0).\n",
    "numeros = [10, 20, 30]\n",
    "print(numeros[0])  # 10\n",
    "print(numeros[-1]) # 30 (último elemento)"
   ]
  },
  {
   "cell_type": "code",
   "execution_count": null,
   "id": "79fc49ec-0c04-47c9-bcc1-18ae84c3e087",
   "metadata": {},
   "outputs": [],
   "source": [
    "# Modificar elementos: Asignando un nuevo valor a un índice.\n",
    "numeros[1] = 25\n",
    "print(numeros)  # [10, 25, 30]"
   ]
  },
  {
   "cell_type": "code",
   "execution_count": null,
   "id": "a6fbfafd-61a7-44ed-895a-f1b8d9b479c4",
   "metadata": {},
   "outputs": [],
   "source": [
    "'''\n",
    "Agregar elementos:\n",
    "\n",
    "    - append(valor): Agrega un elemento al final.\n",
    "    - insert(posición, valor): Inserta un elemento en una posición específica.\n",
    "'''\n",
    "numeros.append(40)\n",
    "numeros.insert(1, 15)\n",
    "print(numeros)  # [10, 15, 25, 30, 40]"
   ]
  },
  {
   "cell_type": "code",
   "execution_count": null,
   "id": "5ea6d253-b6e5-4cb1-960a-14d005eefac3",
   "metadata": {},
   "outputs": [],
   "source": [
    "'''\n",
    "Eliminar elementos:\n",
    "\n",
    "   - remove(valor): Elimina la primera aparición de un valor.\n",
    "   - pop(indice): Elimina un elemento por índice y lo devuelve.\n",
    "'''\n",
    "numeros.remove(25)\n",
    "print(numeros)  # [10, 15, 30, 40]\n",
    "numeros.pop(2)\n",
    "print(numeros)  # [10, 15, 40]"
   ]
  },
  {
   "cell_type": "code",
   "execution_count": null,
   "id": "c70a8924-75b0-4c89-a7b8-9ff79e4a606c",
   "metadata": {},
   "outputs": [],
   "source": [
    "'''\n",
    "Otras operaciones útiles:\n",
    "\n",
    "   - len(lista): Retorna la longitud de la lista.\n",
    "   - sort(): Ordena los elementos.\n",
    "   - reverse(): Invierte el orden de los elementos.\n",
    "'''\n",
    "numeros.sort()\n",
    "print(numeros)  # [10, 15, 40]\n",
    "numeros.reverse()\n",
    "print(numeros)  # [40, 15, 10]"
   ]
  },
  {
   "cell_type": "code",
   "execution_count": null,
   "id": "0d232083-e5ee-4478-b465-d96a9e1fa49c",
   "metadata": {},
   "outputs": [],
   "source": [
    "# Ejemplos\n",
    "\n",
    "# Crear una lista\n",
    "frutas = [\"manzana\", \"plátano\", \"cereza\"]\n",
    "\n",
    "# Acceder a elementos\n",
    "print(\"Primera fruta:\", frutas[0])\n",
    "print(\"Última fruta:\", frutas[-1])\n",
    "\n",
    "# Modificar elementos\n",
    "frutas[1] = \"pera\"\n",
    "print(\"Lista modificada:\", frutas)\n",
    "\n",
    "# Agregar y eliminar elementos\n",
    "frutas.append(\"kiwi\")\n",
    "frutas.remove(\"manzana\")\n",
    "print(\"Lista final:\", frutas)\n"
   ]
  },
  {
   "cell_type": "markdown",
   "id": "adb6d76a-2d19-40cc-bac6-ed922b973f27",
   "metadata": {},
   "source": [
    "### Ejercicio 1: Crear y manipular listas\n",
    "1. Crea una lista que contenga los números del 1 al 5.\n",
    "2. Agrega los números 6 y 7 al final de la lista.\n",
    "3. Elimina el número 3 de la lista.\n",
    "4. Imprime el tamaño de la lista.\n",
    "\n",
    "---\n",
    "\n",
    "### Ejercicio 2: Trabajar con índices\n",
    "Dada la lista:\n",
    "```python\n",
    "colores = [\"rojo\", \"azul\", \"verde\", \"amarillo\", \"morado\"]\n",
    "```\n",
    "* Imprime el segundo y el cuarto color.\n",
    "* Cambia el último color por \"naranja\".\n",
    "* Invierte el orden de la lista.\n",
    "\n",
    "---\n",
    "### Ejercicio 3: Ordenar y filtrar listas\n",
    "\n",
    "* Crea una lista con los números: [8, 3, 5, 2, 7, 1, 4].\n",
    "* Ordena la lista en orden ascendente.\n",
    "* Filtra los números que son mayores a 4.\n",
    "* Imprime la lista filtrada."
   ]
  },
  {
   "cell_type": "code",
   "execution_count": null,
   "id": "d229a6bf-ffa4-4ee4-83fb-009b0701b502",
   "metadata": {},
   "outputs": [],
   "source": [
    "# Ejercicio 1\n",
    "# Escribe tu código aquí para manipular la lista"
   ]
  },
  {
   "cell_type": "code",
   "execution_count": null,
   "id": "fb8a7221-7fc3-457c-9b56-d713b685bdf4",
   "metadata": {},
   "outputs": [],
   "source": [
    "# Ejercicio 2\n",
    "# Escribe tu código aquí para trabajar con índices"
   ]
  },
  {
   "cell_type": "code",
   "execution_count": null,
   "id": "07c22b39-5aaf-4305-a256-98bb6e468d62",
   "metadata": {},
   "outputs": [],
   "source": [
    "# Ejercicio 3\n",
    "# Escribe tu código aquí para ordenar y filtrar listas"
   ]
  }
 ],
 "metadata": {
  "kernelspec": {
   "display_name": "Python 3 (ipykernel)",
   "language": "python",
   "name": "python3"
  },
  "language_info": {
   "codemirror_mode": {
    "name": "ipython",
    "version": 3
   },
   "file_extension": ".py",
   "mimetype": "text/x-python",
   "name": "python",
   "nbconvert_exporter": "python",
   "pygments_lexer": "ipython3",
   "version": "3.9.6"
  }
 },
 "nbformat": 4,
 "nbformat_minor": 5
}
