{
 "cells": [
  {
   "cell_type": "markdown",
   "id": "0f9b2669-903d-49bc-9268-b93f716046f0",
   "metadata": {},
   "source": [
    "# Strings\n",
    "\n",
    "## Objetivos de aprendizaje\n",
    "- Entender qué es un string y cómo se define en Python.\n",
    "- Aprender a manipular strings utilizando operadores y métodos comunes.\n",
    "- Practicar la extracción, modificación y análisis de texto.\n",
    "\n",
    "## ¿Qué es un string?\n",
    "Un **string** es una secuencia de caracteres delimitada por comillas simples (`'`) o dobles (`\"`). Los strings se utilizan para representar texto en Python.\n",
    "\n",
    "### Ejemplos de strings:\n",
    "```python\n",
    "# Strings con comillas simples\n",
    "nombre = 'Juan'\n",
    "\n",
    "# Strings con comillas dobles\n",
    "saludo = \"Hola, ¿cómo estás?\"\n",
    "\n",
    "# Strings multilínea\n",
    "mensaje = \"\"\"Este es un string\n",
    "que ocupa varias líneas.\"\"\"\n",
    "```"
   ]
  },
  {
   "cell_type": "code",
   "execution_count": null,
   "id": "48015e41-b615-4902-804c-3bfb0be02541",
   "metadata": {},
   "outputs": [],
   "source": [
    "saludo = \"Hola\"\n",
    "nombre = \"Ana\"\n",
    "print(saludo + \", \" + nombre)"
   ]
  },
  {
   "cell_type": "code",
   "execution_count": null,
   "id": "f1ed988a-3b3e-4235-a871-5d3ec3f2ea6f",
   "metadata": {},
   "outputs": [],
   "source": [
    "print(\"Python \" * 3)"
   ]
  },
  {
   "cell_type": "code",
   "execution_count": null,
   "id": "f6da2e19-f26d-4a7e-80ef-38b0db6ba4c0",
   "metadata": {},
   "outputs": [],
   "source": [
    "palabra = \"Python\"\n",
    "print(palabra[0])  # Primer carácter\n",
    "print(palabra[-1]) # Último carácter"
   ]
  },
  {
   "cell_type": "code",
   "execution_count": null,
   "id": "8abda106-7a06-4c4f-a1bd-c7eac2b5f6ee",
   "metadata": {},
   "outputs": [],
   "source": [
    "palabra = \"Programación\"\n",
    "print(palabra[0:4])  # \"Prog\"\n",
    "print(palabra[5:])   # \"amación\"\n",
    "print(palabra[:5])   # \"Progr\""
   ]
  },
  {
   "cell_type": "markdown",
   "id": "587afc5a-281b-4215-beb4-6c6dd8f0fe3d",
   "metadata": {},
   "source": [
    "## Métodos comunes de strings\n",
    "\n",
    "Python proporciona varios métodos útiles para trabajar con strings:\n",
    "\n",
    "* lower(), upper(): Convertir a minúsculas o mayúsculas.\n",
    "* strip(): Eliminar espacios en blanco.\n",
    "* replace(a, b): Reemplazar texto.\n",
    "* split(): Dividir un string en una lista de palabras.\n",
    "* join(): Unir elementos de una lista en un string."
   ]
  },
  {
   "cell_type": "code",
   "execution_count": null,
   "id": "98a217ca-b66f-4d04-9fc0-fcee02e4cf48",
   "metadata": {},
   "outputs": [],
   "source": [
    "texto = \"  Hola Mundo  \"\n",
    "print(texto.lower())       # \"  hola mundo  \"\n",
    "print(texto.strip())       # \"Hola Mundo\"\n",
    "print(texto.replace(\"Mundo\", \"Python\"))  # \"  Hola Python  \""
   ]
  },
  {
   "cell_type": "code",
   "execution_count": null,
   "id": "6276c388-1c73-4a4b-a7d5-adc399d1851f",
   "metadata": {},
   "outputs": [],
   "source": [
    "# Ejemplo: Concatenación\n",
    "nombre = \"María\"\n",
    "saludo = \"Hola\"\n",
    "print(saludo + \", \" + nombre)\n",
    "\n",
    "# Ejemplo: Rebanado\n",
    "frase = \"¡Bienvenido a Python!\"\n",
    "print(frase[0:10])  # \"¡Bienvenido\"\n",
    "\n",
    "# Ejemplo: Uso de métodos\n",
    "mensaje = \"Aprendiendo Python\"\n",
    "print(mensaje.upper())  # \"APRENDIENDO PYTHON\"\n",
    "print(mensaje.replace(\"Python\", \"programación\"))  # \"Aprendiendo programación\"\n"
   ]
  },
  {
   "cell_type": "markdown",
   "id": "38163862-14f8-4d7c-8181-2fee771afb0a",
   "metadata": {},
   "source": [
    "### Ejercicio 1: Manipulación básica de strings\n",
    "Escribe un programa que:\n",
    "1. Solicite al usuario su nombre y apellido.\n",
    "2. Devuelva un saludo en mayúsculas que incluya el nombre completo.\n",
    "\n",
    "---\n",
    "\n",
    "### Ejercicio 2: Análisis de strings\n",
    "Dado el siguiente string:\n",
    "```python\n",
    "frase = \"Python es un lenguaje de programación fácil de aprender.\"\n",
    "```\n",
    "* Encuentra cuántas veces aparece la palabra \"Python\".\n",
    "* Reemplaza \"fácil\" con \"divertido\".\n",
    "* Divide la frase en palabras y muéstralas como una lista.\n",
    "\n",
    "### Ejercicio 3 Dado el string:\n",
    "```\n",
    "mensaje = \"¡Bienvenido al curso de Python!\"\n",
    "```\n",
    "* Extrae y muestra las palabras \"curso de Python\".\n",
    "* Muestra el último carácter del string.\n",
    "* Invierte el string usando slicing."
   ]
  },
  {
   "cell_type": "code",
   "execution_count": null,
   "id": "99f9bd2d-2960-4505-a2e1-4bf28b0899ad",
   "metadata": {},
   "outputs": [],
   "source": [
    "## Ejercicio 1: Manipulación básica de strings"
   ]
  },
  {
   "cell_type": "code",
   "execution_count": null,
   "id": "6c473692-9d99-4173-ac01-9fa2a98b6414",
   "metadata": {},
   "outputs": [],
   "source": [
    "## Ejercicio 2: Análisis de strings\n",
    "\n",
    "frase = \"Python es un lenguaje de programación fácil de aprender.\""
   ]
  },
  {
   "cell_type": "code",
   "execution_count": null,
   "id": "90850f18-b1d9-48b9-ac76-0ba1844783db",
   "metadata": {},
   "outputs": [],
   "source": [
    "## Ejercicio 3 Dado el string:\n",
    "\n",
    "mensaje = \"¡Bienvenido al curso de Python!\""
   ]
  },
  {
   "cell_type": "markdown",
   "id": "7f99215a-334c-4e96-af48-8555fe43d0b6",
   "metadata": {},
   "source": [
    "## La función input()\n",
    "\n",
    "La función input() permite obtener texto escrito por teclado. Al llegar a la función, el programa se detiene esperando que se escriba algo y se pulse la tecla Intro, como muestra el siguiente ejemplo:"
   ]
  },
  {
   "cell_type": "code",
   "execution_count": 1,
   "id": "114cf691-9ed7-48c6-898b-0b79fbac852d",
   "metadata": {},
   "outputs": [
    {
     "name": "stdout",
     "output_type": "stream",
     "text": [
      "¿Cómo se llama?\n"
     ]
    },
    {
     "name": "stdin",
     "output_type": "stream",
     "text": [
      " Fernando\n"
     ]
    },
    {
     "name": "stdout",
     "output_type": "stream",
     "text": [
      "Me alegro de conocerle, Fernando\n"
     ]
    }
   ],
   "source": [
    "print(\"¿Cómo se llama?\")\n",
    "nombre = input()\n",
    "print(f\"Me alegro de conocerle, {nombre}\")"
   ]
  },
  {
   "cell_type": "markdown",
   "id": "19a7f3ca-75d2-41d8-898a-c62f7f96092c",
   "metadata": {},
   "source": [
    "### Ejercicio 4\n",
    "Escribe un programa para solicitar el nombre y apellido\n",
    "\n",
    "### Ejercicio 5\n",
    "Escribe un programa para analizar el string igual que en el ejercicio 2\n",
    "\n",
    "### Ejercicio 6\n",
    "Escribe un programa para practicar índices y rebanado"
   ]
  },
  {
   "cell_type": "code",
   "execution_count": null,
   "id": "794e6614-5baf-4c13-93a2-c3181f8bb491",
   "metadata": {},
   "outputs": [],
   "source": [
    "### Ejercicio 4"
   ]
  },
  {
   "cell_type": "code",
   "execution_count": null,
   "id": "e06a9e33-989f-41b5-998d-e960846e6dff",
   "metadata": {},
   "outputs": [],
   "source": [
    "### Ejercicio 5"
   ]
  },
  {
   "cell_type": "code",
   "execution_count": null,
   "id": "c15d075f-4137-4fc4-b119-b28788c85348",
   "metadata": {},
   "outputs": [],
   "source": [
    "### Ejercicio 6"
   ]
  }
 ],
 "metadata": {
  "kernelspec": {
   "display_name": "Python 3 (ipykernel)",
   "language": "python",
   "name": "python3"
  },
  "language_info": {
   "codemirror_mode": {
    "name": "ipython",
    "version": 3
   },
   "file_extension": ".py",
   "mimetype": "text/x-python",
   "name": "python",
   "nbconvert_exporter": "python",
   "pygments_lexer": "ipython3",
   "version": "3.9.6"
  }
 },
 "nbformat": 4,
 "nbformat_minor": 5
}
